{
 "cells": [
  {
   "cell_type": "code",
   "execution_count": 5,
   "metadata": {},
   "outputs": [
    {
     "name": "stdout",
     "output_type": "stream",
     "text": [
      "Collecting tabulate\n",
      "  Downloading tabulate-0.8.7-py3-none-any.whl (24 kB)\n",
      "Installing collected packages: tabulate\n",
      "Successfully installed tabulate-0.8.7\n",
      "Note: you may need to restart the kernel to use updated packages.\n"
     ]
    }
   ],
   "source": [
    "pip install tabulate"
   ]
  },
  {
   "cell_type": "code",
   "execution_count": 1,
   "metadata": {},
   "outputs": [
    {
     "ename": "ValueError",
     "evalue": "invalid literal for int() with base 10: 'Andaman and Nicobar Islands33'",
     "output_type": "error",
     "traceback": [
      "\u001b[1;31m---------------------------------------------------------------------------\u001b[0m",
      "\u001b[1;31mValueError\u001b[0m                                Traceback (most recent call last)",
      "\u001b[1;32m<ipython-input-1-510c10cc3fbe>\u001b[0m in \u001b[0;36m<module>\u001b[1;34m\u001b[0m\n\u001b[0;32m     47\u001b[0m \u001b[0mperformance\u001b[0m \u001b[1;33m=\u001b[0m \u001b[1;33m[\u001b[0m\u001b[1;33m]\u001b[0m\u001b[1;33m\u001b[0m\u001b[1;33m\u001b[0m\u001b[0m\n\u001b[0;32m     48\u001b[0m \u001b[1;32mfor\u001b[0m \u001b[0mrow\u001b[0m \u001b[1;32min\u001b[0m \u001b[0mstats\u001b[0m \u001b[1;33m:\u001b[0m\u001b[1;33m\u001b[0m\u001b[1;33m\u001b[0m\u001b[0m\n\u001b[1;32m---> 49\u001b[1;33m         \u001b[0mperformance\u001b[0m\u001b[1;33m.\u001b[0m\u001b[0mappend\u001b[0m\u001b[1;33m(\u001b[0m\u001b[0mint\u001b[0m\u001b[1;33m(\u001b[0m\u001b[1;33m(\u001b[0m\u001b[0mrow\u001b[0m\u001b[1;33m[\u001b[0m\u001b[1;36m2\u001b[0m\u001b[1;33m]\u001b[0m\u001b[1;33m)\u001b[0m \u001b[1;33m+\u001b[0m \u001b[1;33m(\u001b[0m\u001b[0mrow\u001b[0m\u001b[1;33m[\u001b[0m\u001b[1;36m3\u001b[0m\u001b[1;33m]\u001b[0m\u001b[1;33m)\u001b[0m\u001b[1;33m)\u001b[0m\u001b[1;33m)\u001b[0m\u001b[1;33m\u001b[0m\u001b[1;33m\u001b[0m\u001b[0m\n\u001b[0m\u001b[0;32m     50\u001b[0m \u001b[1;33m\u001b[0m\u001b[0m\n\u001b[0;32m     51\u001b[0m \u001b[0mtable\u001b[0m \u001b[1;33m=\u001b[0m \u001b[0mtabulate\u001b[0m\u001b[1;33m(\u001b[0m\u001b[0mstats\u001b[0m\u001b[1;33m,\u001b[0m \u001b[0mheaders\u001b[0m\u001b[1;33m=\u001b[0m\u001b[0mSHORT_HEADERS\u001b[0m\u001b[1;33m)\u001b[0m\u001b[1;33m\u001b[0m\u001b[1;33m\u001b[0m\u001b[0m\n",
      "\u001b[1;31mValueError\u001b[0m: invalid literal for int() with base 10: 'Andaman and Nicobar Islands33'"
     ]
    }
   ],
   "source": [
    "#pip install bs4\n",
    "#pip install tabulate\n",
    "#pip install matplotlib\n",
    "#pip install numpy \n",
    "# importing libraries \n",
    "\n",
    "import requests \n",
    "from bs4 import BeautifulSoup \n",
    "from tabulate import tabulate \n",
    "import os \n",
    "import numpy as np \n",
    "import matplotlib.pyplot as plt\n",
    "\n",
    "extract_contents = lambda row: [x.text.replace('\\n', '') for x in row] \n",
    "URL = 'https://www.mohfw.gov.in/'\n",
    "\n",
    "SHORT_HEADERS = ['SNo', 'State','Indian-Confirmed', \n",
    "\t\t\t\t'Foreign-Confirmed','Cured','Death'] \n",
    "\n",
    "response = requests.get(URL).content \n",
    "soup = BeautifulSoup(response, 'html.parser') \n",
    "header = extract_contents(soup.tr.find_all('th')) \n",
    "\n",
    "stats = [] \n",
    "all_rows = soup.find_all('tr') \n",
    "\n",
    "for row in all_rows: \n",
    "\tstat = extract_contents(row.find_all('td')) \n",
    "\tif stat: \n",
    "\t\tif len(stat) == 5: \n",
    "\t\t\t# last row \n",
    "\t\t\tstat = ['', *stat] \n",
    "\t\t\tstats.append(stat) \n",
    "\t\telif len(stat) == 6: \n",
    "\t\t\tstats.append(stat) \n",
    "\n",
    "stats[-1][1] = \"Total Cases\"\n",
    "\n",
    "stats.remove(stats[-1])\n",
    "\n",
    "objects = [] \n",
    "for row in stats : \n",
    "\tobjects.append(row[1]) \n",
    "\n",
    "y_pos = np.arange(len(objects)) \n",
    "\n",
    "performance = [] \n",
    "for row in stats : \n",
    "\tperformance.append(int((row[2]) + (row[3])))\n",
    "\n",
    "table = tabulate(stats, headers=SHORT_HEADERS) \n",
    "print(table) \n",
    "\n",
    "\n",
    "plt.barh(y_pos, performance, align='center', alpha=0.5, \n",
    "\t\t\t\tcolor=(234/256.0, 128/256.0, 252/256.0), \n",
    "\t\t\t\tedgecolor=(106/256.0, 27/256.0, 154/256.0)) \n",
    "\n",
    "plt.yticks(y_pos, objects) \n",
    "plt.xlim(1,80) \n",
    "plt.xlabel('Number of Cases') \n",
    "plt.title('Corona Virus Cases') \n",
    "plt.show() \n",
    "\n"
   ]
  },
  {
   "cell_type": "code",
   "execution_count": null,
   "metadata": {},
   "outputs": [],
   "source": []
  }
 ],
 "metadata": {
  "kernelspec": {
   "display_name": "Python 3",
   "language": "python",
   "name": "python3"
  },
  "language_info": {
   "codemirror_mode": {
    "name": "ipython",
    "version": 3
   },
   "file_extension": ".py",
   "mimetype": "text/x-python",
   "name": "python",
   "nbconvert_exporter": "python",
   "pygments_lexer": "ipython3",
   "version": "3.7.6"
  }
 },
 "nbformat": 4,
 "nbformat_minor": 4
}
